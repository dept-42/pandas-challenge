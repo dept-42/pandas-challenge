{
 "cells": [
  {
   "cell_type": "code",
   "execution_count": 57,
   "id": "961f7e1a-dabf-4021-9eac-355d0227d968",
   "metadata": {},
   "outputs": [],
   "source": [
    "import pandas as pd"
   ]
  },
  {
   "cell_type": "code",
   "execution_count": 113,
   "id": "19db2a5a-1476-4595-a861-8a5a86e079c6",
   "metadata": {},
   "outputs": [],
   "source": [
    "data = {\n",
    "  'co2': [95, 90, 99, 104, 105, 94, 99, 104],\n",
    "  'model': ['Citigo', 'Fabia', 'Fiesta', 'Rapid', 'Focus', 'Mondeo', 'Octavia', 'B-Max'],\n",
    "  'car': ['Skoda', 'Skoda', 'Ford', 'Skoda', 'Ford', 'Ford', 'Skoda', 'Ford'],\n",
    "  'price' : [55000, 48000, 38000, 42000, 61000, 65000, 70000, 51000]\n",
    "}"
   ]
  },
  {
   "cell_type": "code",
   "execution_count": 115,
   "id": "d82d3664-b311-4a7f-860e-5d6575a2500a",
   "metadata": {},
   "outputs": [
    {
     "data": {
      "text/html": [
       "<div>\n",
       "<style scoped>\n",
       "    .dataframe tbody tr th:only-of-type {\n",
       "        vertical-align: middle;\n",
       "    }\n",
       "\n",
       "    .dataframe tbody tr th {\n",
       "        vertical-align: top;\n",
       "    }\n",
       "\n",
       "    .dataframe thead th {\n",
       "        text-align: right;\n",
       "    }\n",
       "</style>\n",
       "<table border=\"1\" class=\"dataframe\">\n",
       "  <thead>\n",
       "    <tr style=\"text-align: right;\">\n",
       "      <th></th>\n",
       "      <th>co2</th>\n",
       "      <th>model</th>\n",
       "      <th>car</th>\n",
       "      <th>price</th>\n",
       "    </tr>\n",
       "  </thead>\n",
       "  <tbody>\n",
       "    <tr>\n",
       "      <th>0</th>\n",
       "      <td>95</td>\n",
       "      <td>Citigo</td>\n",
       "      <td>Skoda</td>\n",
       "      <td>55000</td>\n",
       "    </tr>\n",
       "    <tr>\n",
       "      <th>1</th>\n",
       "      <td>90</td>\n",
       "      <td>Fabia</td>\n",
       "      <td>Skoda</td>\n",
       "      <td>48000</td>\n",
       "    </tr>\n",
       "    <tr>\n",
       "      <th>2</th>\n",
       "      <td>99</td>\n",
       "      <td>Fiesta</td>\n",
       "      <td>Ford</td>\n",
       "      <td>38000</td>\n",
       "    </tr>\n",
       "    <tr>\n",
       "      <th>3</th>\n",
       "      <td>104</td>\n",
       "      <td>Rapid</td>\n",
       "      <td>Skoda</td>\n",
       "      <td>42000</td>\n",
       "    </tr>\n",
       "    <tr>\n",
       "      <th>4</th>\n",
       "      <td>105</td>\n",
       "      <td>Focus</td>\n",
       "      <td>Ford</td>\n",
       "      <td>61000</td>\n",
       "    </tr>\n",
       "    <tr>\n",
       "      <th>5</th>\n",
       "      <td>94</td>\n",
       "      <td>Mondeo</td>\n",
       "      <td>Ford</td>\n",
       "      <td>65000</td>\n",
       "    </tr>\n",
       "    <tr>\n",
       "      <th>6</th>\n",
       "      <td>99</td>\n",
       "      <td>Octavia</td>\n",
       "      <td>Skoda</td>\n",
       "      <td>70000</td>\n",
       "    </tr>\n",
       "    <tr>\n",
       "      <th>7</th>\n",
       "      <td>104</td>\n",
       "      <td>B-Max</td>\n",
       "      <td>Ford</td>\n",
       "      <td>51000</td>\n",
       "    </tr>\n",
       "  </tbody>\n",
       "</table>\n",
       "</div>"
      ],
      "text/plain": [
       "   co2    model    car  price\n",
       "0   95   Citigo  Skoda  55000\n",
       "1   90    Fabia  Skoda  48000\n",
       "2   99   Fiesta   Ford  38000\n",
       "3  104    Rapid  Skoda  42000\n",
       "4  105    Focus   Ford  61000\n",
       "5   94   Mondeo   Ford  65000\n",
       "6   99  Octavia  Skoda  70000\n",
       "7  104    B-Max   Ford  51000"
      ]
     },
     "execution_count": 115,
     "metadata": {},
     "output_type": "execute_result"
    }
   ],
   "source": [
    "df = pd.DataFrame(data)\n",
    "df\n",
    "#df.groupby([\"car\"]).mean()"
   ]
  },
  {
   "cell_type": "code",
   "execution_count": 117,
   "id": "8f319823-c9e1-49cc-b3fd-429ac91652ff",
   "metadata": {},
   "outputs": [],
   "source": [
    "dfg = df.groupby([\"car\"])"
   ]
  },
  {
   "cell_type": "code",
   "execution_count": 119,
   "id": "ea74f14e-7310-4f70-a15c-888ea7be78e4",
   "metadata": {},
   "outputs": [
    {
     "data": {
      "text/plain": [
       "2"
      ]
     },
     "execution_count": 119,
     "metadata": {},
     "output_type": "execute_result"
    }
   ],
   "source": [
    "dfg.ngroups"
   ]
  },
  {
   "cell_type": "code",
   "execution_count": 121,
   "id": "966c8e85-e3ac-4e98-999c-3eb462d0021b",
   "metadata": {},
   "outputs": [
    {
     "data": {
      "text/plain": [
       "car\n",
       "Ford     4\n",
       "Skoda    4\n",
       "dtype: int64"
      ]
     },
     "execution_count": 121,
     "metadata": {},
     "output_type": "execute_result"
    }
   ],
   "source": [
    "dfg.size()"
   ]
  },
  {
   "cell_type": "code",
   "execution_count": 123,
   "id": "66528610-1bdb-4b46-94e8-29ff8e485e05",
   "metadata": {},
   "outputs": [
    {
     "data": {
      "text/html": [
       "<div>\n",
       "<style scoped>\n",
       "    .dataframe tbody tr th:only-of-type {\n",
       "        vertical-align: middle;\n",
       "    }\n",
       "\n",
       "    .dataframe tbody tr th {\n",
       "        vertical-align: top;\n",
       "    }\n",
       "\n",
       "    .dataframe thead th {\n",
       "        text-align: right;\n",
       "    }\n",
       "</style>\n",
       "<table border=\"1\" class=\"dataframe\">\n",
       "  <thead>\n",
       "    <tr style=\"text-align: right;\">\n",
       "      <th></th>\n",
       "      <th>co2</th>\n",
       "      <th>model</th>\n",
       "      <th>car</th>\n",
       "      <th>price</th>\n",
       "    </tr>\n",
       "  </thead>\n",
       "  <tbody>\n",
       "    <tr>\n",
       "      <th>3</th>\n",
       "      <td>104</td>\n",
       "      <td>Rapid</td>\n",
       "      <td>Skoda</td>\n",
       "      <td>42000</td>\n",
       "    </tr>\n",
       "    <tr>\n",
       "      <th>5</th>\n",
       "      <td>94</td>\n",
       "      <td>Mondeo</td>\n",
       "      <td>Ford</td>\n",
       "      <td>65000</td>\n",
       "    </tr>\n",
       "  </tbody>\n",
       "</table>\n",
       "</div>"
      ],
      "text/plain": [
       "   co2   model    car  price\n",
       "3  104   Rapid  Skoda  42000\n",
       "5   94  Mondeo   Ford  65000"
      ]
     },
     "execution_count": 123,
     "metadata": {},
     "output_type": "execute_result"
    }
   ],
   "source": [
    "dfg.nth(2)"
   ]
  },
  {
   "cell_type": "code",
   "execution_count": 125,
   "id": "2290c0e5-e9bb-441c-8163-973eb5253160",
   "metadata": {},
   "outputs": [
    {
     "name": "stderr",
     "output_type": "stream",
     "text": [
      "/var/folders/2v/kgb9p_hn6ss9mqhg1hbvvgxh0000gn/T/ipykernel_4900/3179603583.py:1: FutureWarning: When grouping with a length-1 list-like, you will need to pass a length-1 tuple to get_group in a future version of pandas. Pass `(name,)` instead of `name` to silence this warning.\n",
      "  dfg.get_group('Ford')\n"
     ]
    },
    {
     "data": {
      "text/html": [
       "<div>\n",
       "<style scoped>\n",
       "    .dataframe tbody tr th:only-of-type {\n",
       "        vertical-align: middle;\n",
       "    }\n",
       "\n",
       "    .dataframe tbody tr th {\n",
       "        vertical-align: top;\n",
       "    }\n",
       "\n",
       "    .dataframe thead th {\n",
       "        text-align: right;\n",
       "    }\n",
       "</style>\n",
       "<table border=\"1\" class=\"dataframe\">\n",
       "  <thead>\n",
       "    <tr style=\"text-align: right;\">\n",
       "      <th></th>\n",
       "      <th>co2</th>\n",
       "      <th>model</th>\n",
       "      <th>car</th>\n",
       "      <th>price</th>\n",
       "    </tr>\n",
       "  </thead>\n",
       "  <tbody>\n",
       "    <tr>\n",
       "      <th>2</th>\n",
       "      <td>99</td>\n",
       "      <td>Fiesta</td>\n",
       "      <td>Ford</td>\n",
       "      <td>38000</td>\n",
       "    </tr>\n",
       "    <tr>\n",
       "      <th>4</th>\n",
       "      <td>105</td>\n",
       "      <td>Focus</td>\n",
       "      <td>Ford</td>\n",
       "      <td>61000</td>\n",
       "    </tr>\n",
       "    <tr>\n",
       "      <th>5</th>\n",
       "      <td>94</td>\n",
       "      <td>Mondeo</td>\n",
       "      <td>Ford</td>\n",
       "      <td>65000</td>\n",
       "    </tr>\n",
       "    <tr>\n",
       "      <th>7</th>\n",
       "      <td>104</td>\n",
       "      <td>B-Max</td>\n",
       "      <td>Ford</td>\n",
       "      <td>51000</td>\n",
       "    </tr>\n",
       "  </tbody>\n",
       "</table>\n",
       "</div>"
      ],
      "text/plain": [
       "   co2   model   car  price\n",
       "2   99  Fiesta  Ford  38000\n",
       "4  105   Focus  Ford  61000\n",
       "5   94  Mondeo  Ford  65000\n",
       "7  104   B-Max  Ford  51000"
      ]
     },
     "execution_count": 125,
     "metadata": {},
     "output_type": "execute_result"
    }
   ],
   "source": [
    "dfg.get_group('Ford')"
   ]
  },
  {
   "cell_type": "code",
   "execution_count": 127,
   "id": "5c948eb0-2594-4af7-857d-21764248a8b3",
   "metadata": {},
   "outputs": [
    {
     "data": {
      "text/html": [
       "<div>\n",
       "<style scoped>\n",
       "    .dataframe tbody tr th:only-of-type {\n",
       "        vertical-align: middle;\n",
       "    }\n",
       "\n",
       "    .dataframe tbody tr th {\n",
       "        vertical-align: top;\n",
       "    }\n",
       "\n",
       "    .dataframe thead th {\n",
       "        text-align: right;\n",
       "    }\n",
       "</style>\n",
       "<table border=\"1\" class=\"dataframe\">\n",
       "  <thead>\n",
       "    <tr style=\"text-align: right;\">\n",
       "      <th></th>\n",
       "      <th>co2</th>\n",
       "      <th>model</th>\n",
       "      <th>car</th>\n",
       "      <th>price</th>\n",
       "    </tr>\n",
       "  </thead>\n",
       "  <tbody>\n",
       "    <tr>\n",
       "      <th>2</th>\n",
       "      <td>99</td>\n",
       "      <td>Fiesta</td>\n",
       "      <td>Ford</td>\n",
       "      <td>38000</td>\n",
       "    </tr>\n",
       "    <tr>\n",
       "      <th>4</th>\n",
       "      <td>105</td>\n",
       "      <td>Focus</td>\n",
       "      <td>Ford</td>\n",
       "      <td>61000</td>\n",
       "    </tr>\n",
       "    <tr>\n",
       "      <th>5</th>\n",
       "      <td>94</td>\n",
       "      <td>Mondeo</td>\n",
       "      <td>Ford</td>\n",
       "      <td>65000</td>\n",
       "    </tr>\n",
       "    <tr>\n",
       "      <th>7</th>\n",
       "      <td>104</td>\n",
       "      <td>B-Max</td>\n",
       "      <td>Ford</td>\n",
       "      <td>51000</td>\n",
       "    </tr>\n",
       "  </tbody>\n",
       "</table>\n",
       "</div>"
      ],
      "text/plain": [
       "   co2   model   car  price\n",
       "2   99  Fiesta  Ford  38000\n",
       "4  105   Focus  Ford  61000\n",
       "5   94  Mondeo  Ford  65000\n",
       "7  104   B-Max  Ford  51000"
      ]
     },
     "execution_count": 127,
     "metadata": {},
     "output_type": "execute_result"
    }
   ],
   "source": [
    "df[df[\"car\"]==\"Ford\"]"
   ]
  },
  {
   "cell_type": "code",
   "execution_count": 129,
   "id": "111a84a4-03d4-4f93-a2c1-736f73e1126a",
   "metadata": {},
   "outputs": [
    {
     "name": "stdout",
     "output_type": "stream",
     "text": [
      "('Ford',)\n",
      "   co2   model   car  price\n",
      "2   99  Fiesta  Ford  38000\n",
      "4  105   Focus  Ford  61000\n",
      "5   94  Mondeo  Ford  65000\n",
      "7  104   B-Max  Ford  51000\n",
      "('Skoda',)\n",
      "   co2    model    car  price\n",
      "0   95   Citigo  Skoda  55000\n",
      "1   90    Fabia  Skoda  48000\n",
      "3  104    Rapid  Skoda  42000\n",
      "6   99  Octavia  Skoda  70000\n"
     ]
    }
   ],
   "source": [
    "for name_of_group, contents_of_group in dfg:\n",
    "    print(name_of_group)\n",
    "    print(contents_of_group)"
   ]
  },
  {
   "cell_type": "code",
   "execution_count": 135,
   "id": "ead3505e-556b-4ed7-b147-3c79f2fea6aa",
   "metadata": {},
   "outputs": [
    {
     "data": {
      "text/html": [
       "<div>\n",
       "<style scoped>\n",
       "    .dataframe tbody tr th:only-of-type {\n",
       "        vertical-align: middle;\n",
       "    }\n",
       "\n",
       "    .dataframe tbody tr th {\n",
       "        vertical-align: top;\n",
       "    }\n",
       "\n",
       "    .dataframe thead th {\n",
       "        text-align: right;\n",
       "    }\n",
       "</style>\n",
       "<table border=\"1\" class=\"dataframe\">\n",
       "  <thead>\n",
       "    <tr style=\"text-align: right;\">\n",
       "      <th></th>\n",
       "      <th>co2</th>\n",
       "      <th>price</th>\n",
       "    </tr>\n",
       "    <tr>\n",
       "      <th>car</th>\n",
       "      <th></th>\n",
       "      <th></th>\n",
       "    </tr>\n",
       "  </thead>\n",
       "  <tbody>\n",
       "    <tr>\n",
       "      <th>Ford</th>\n",
       "      <td>100.5</td>\n",
       "      <td>53750.0</td>\n",
       "    </tr>\n",
       "    <tr>\n",
       "      <th>Skoda</th>\n",
       "      <td>97.0</td>\n",
       "      <td>53750.0</td>\n",
       "    </tr>\n",
       "  </tbody>\n",
       "</table>\n",
       "</div>"
      ],
      "text/plain": [
       "         co2    price\n",
       "car                  \n",
       "Ford   100.5  53750.0\n",
       "Skoda   97.0  53750.0"
      ]
     },
     "execution_count": 135,
     "metadata": {},
     "output_type": "execute_result"
    }
   ],
   "source": [
    "gb_cols = dfg[[\"co2\",\"price\"]]\n",
    "gb_cols.mean()"
   ]
  },
  {
   "cell_type": "code",
   "execution_count": 145,
   "id": "2d11108f-2ba2-400e-a805-8653679dd1b1",
   "metadata": {},
   "outputs": [
    {
     "data": {
      "text/html": [
       "<div>\n",
       "<style scoped>\n",
       "    .dataframe tbody tr th:only-of-type {\n",
       "        vertical-align: middle;\n",
       "    }\n",
       "\n",
       "    .dataframe tbody tr th {\n",
       "        vertical-align: top;\n",
       "    }\n",
       "\n",
       "    .dataframe thead tr th {\n",
       "        text-align: left;\n",
       "    }\n",
       "\n",
       "    .dataframe thead tr:last-of-type th {\n",
       "        text-align: right;\n",
       "    }\n",
       "</style>\n",
       "<table border=\"1\" class=\"dataframe\">\n",
       "  <thead>\n",
       "    <tr>\n",
       "      <th></th>\n",
       "      <th colspan=\"4\" halign=\"left\">co2</th>\n",
       "      <th colspan=\"4\" halign=\"left\">price</th>\n",
       "    </tr>\n",
       "    <tr>\n",
       "      <th></th>\n",
       "      <th>min</th>\n",
       "      <th>max</th>\n",
       "      <th>sum</th>\n",
       "      <th>mean</th>\n",
       "      <th>min</th>\n",
       "      <th>max</th>\n",
       "      <th>sum</th>\n",
       "      <th>mean</th>\n",
       "    </tr>\n",
       "    <tr>\n",
       "      <th>car</th>\n",
       "      <th></th>\n",
       "      <th></th>\n",
       "      <th></th>\n",
       "      <th></th>\n",
       "      <th></th>\n",
       "      <th></th>\n",
       "      <th></th>\n",
       "      <th></th>\n",
       "    </tr>\n",
       "  </thead>\n",
       "  <tbody>\n",
       "    <tr>\n",
       "      <th>Ford</th>\n",
       "      <td>94</td>\n",
       "      <td>105</td>\n",
       "      <td>402</td>\n",
       "      <td>100.5</td>\n",
       "      <td>38000</td>\n",
       "      <td>65000</td>\n",
       "      <td>215000</td>\n",
       "      <td>53750.0</td>\n",
       "    </tr>\n",
       "    <tr>\n",
       "      <th>Skoda</th>\n",
       "      <td>90</td>\n",
       "      <td>104</td>\n",
       "      <td>388</td>\n",
       "      <td>97.0</td>\n",
       "      <td>42000</td>\n",
       "      <td>70000</td>\n",
       "      <td>215000</td>\n",
       "      <td>53750.0</td>\n",
       "    </tr>\n",
       "  </tbody>\n",
       "</table>\n",
       "</div>"
      ],
      "text/plain": [
       "      co2                   price                        \n",
       "      min  max  sum   mean    min    max     sum     mean\n",
       "car                                                      \n",
       "Ford   94  105  402  100.5  38000  65000  215000  53750.0\n",
       "Skoda  90  104  388   97.0  42000  70000  215000  53750.0"
      ]
     },
     "execution_count": 145,
     "metadata": {},
     "output_type": "execute_result"
    }
   ],
   "source": [
    "gb_cols.aggregate(['min', 'max', 'sum', 'mean'])"
   ]
  },
  {
   "cell_type": "code",
   "execution_count": 147,
   "id": "7e1fe573-a45d-4301-85db-8e26ff5b2538",
   "metadata": {},
   "outputs": [],
   "source": [
    "dict = {'co2':'sum', \"price\":'max'}"
   ]
  },
  {
   "cell_type": "code",
   "execution_count": 149,
   "id": "65ed8ec4-8709-417d-92f1-8a7dd0cc38bf",
   "metadata": {},
   "outputs": [
    {
     "data": {
      "text/html": [
       "<div>\n",
       "<style scoped>\n",
       "    .dataframe tbody tr th:only-of-type {\n",
       "        vertical-align: middle;\n",
       "    }\n",
       "\n",
       "    .dataframe tbody tr th {\n",
       "        vertical-align: top;\n",
       "    }\n",
       "\n",
       "    .dataframe thead th {\n",
       "        text-align: right;\n",
       "    }\n",
       "</style>\n",
       "<table border=\"1\" class=\"dataframe\">\n",
       "  <thead>\n",
       "    <tr style=\"text-align: right;\">\n",
       "      <th></th>\n",
       "      <th>co2</th>\n",
       "      <th>price</th>\n",
       "    </tr>\n",
       "    <tr>\n",
       "      <th>car</th>\n",
       "      <th></th>\n",
       "      <th></th>\n",
       "    </tr>\n",
       "  </thead>\n",
       "  <tbody>\n",
       "    <tr>\n",
       "      <th>Ford</th>\n",
       "      <td>402</td>\n",
       "      <td>65000</td>\n",
       "    </tr>\n",
       "    <tr>\n",
       "      <th>Skoda</th>\n",
       "      <td>388</td>\n",
       "      <td>70000</td>\n",
       "    </tr>\n",
       "  </tbody>\n",
       "</table>\n",
       "</div>"
      ],
      "text/plain": [
       "       co2  price\n",
       "car              \n",
       "Ford   402  65000\n",
       "Skoda  388  70000"
      ]
     },
     "execution_count": 149,
     "metadata": {},
     "output_type": "execute_result"
    }
   ],
   "source": [
    "gb_cols.aggregate(dict)"
   ]
  },
  {
   "cell_type": "code",
   "execution_count": 151,
   "id": "920eea75-fbbf-435c-891c-9d4298f6fc26",
   "metadata": {},
   "outputs": [
    {
     "data": {
      "text/html": [
       "<div>\n",
       "<style scoped>\n",
       "    .dataframe tbody tr th:only-of-type {\n",
       "        vertical-align: middle;\n",
       "    }\n",
       "\n",
       "    .dataframe tbody tr th {\n",
       "        vertical-align: top;\n",
       "    }\n",
       "\n",
       "    .dataframe thead tr th {\n",
       "        text-align: left;\n",
       "    }\n",
       "\n",
       "    .dataframe thead tr:last-of-type th {\n",
       "        text-align: right;\n",
       "    }\n",
       "</style>\n",
       "<table border=\"1\" class=\"dataframe\">\n",
       "  <thead>\n",
       "    <tr>\n",
       "      <th></th>\n",
       "      <th colspan=\"8\" halign=\"left\">co2</th>\n",
       "      <th colspan=\"8\" halign=\"left\">price</th>\n",
       "    </tr>\n",
       "    <tr>\n",
       "      <th></th>\n",
       "      <th>count</th>\n",
       "      <th>mean</th>\n",
       "      <th>std</th>\n",
       "      <th>min</th>\n",
       "      <th>25%</th>\n",
       "      <th>50%</th>\n",
       "      <th>75%</th>\n",
       "      <th>max</th>\n",
       "      <th>count</th>\n",
       "      <th>mean</th>\n",
       "      <th>std</th>\n",
       "      <th>min</th>\n",
       "      <th>25%</th>\n",
       "      <th>50%</th>\n",
       "      <th>75%</th>\n",
       "      <th>max</th>\n",
       "    </tr>\n",
       "    <tr>\n",
       "      <th>car</th>\n",
       "      <th></th>\n",
       "      <th></th>\n",
       "      <th></th>\n",
       "      <th></th>\n",
       "      <th></th>\n",
       "      <th></th>\n",
       "      <th></th>\n",
       "      <th></th>\n",
       "      <th></th>\n",
       "      <th></th>\n",
       "      <th></th>\n",
       "      <th></th>\n",
       "      <th></th>\n",
       "      <th></th>\n",
       "      <th></th>\n",
       "      <th></th>\n",
       "    </tr>\n",
       "  </thead>\n",
       "  <tbody>\n",
       "    <tr>\n",
       "      <th>Ford</th>\n",
       "      <td>4.0</td>\n",
       "      <td>100.5</td>\n",
       "      <td>5.066228</td>\n",
       "      <td>94.0</td>\n",
       "      <td>97.75</td>\n",
       "      <td>101.5</td>\n",
       "      <td>104.25</td>\n",
       "      <td>105.0</td>\n",
       "      <td>4.0</td>\n",
       "      <td>53750.0</td>\n",
       "      <td>12038.133853</td>\n",
       "      <td>38000.0</td>\n",
       "      <td>47750.0</td>\n",
       "      <td>56000.0</td>\n",
       "      <td>62000.0</td>\n",
       "      <td>65000.0</td>\n",
       "    </tr>\n",
       "    <tr>\n",
       "      <th>Skoda</th>\n",
       "      <td>4.0</td>\n",
       "      <td>97.0</td>\n",
       "      <td>5.944185</td>\n",
       "      <td>90.0</td>\n",
       "      <td>93.75</td>\n",
       "      <td>97.0</td>\n",
       "      <td>100.25</td>\n",
       "      <td>104.0</td>\n",
       "      <td>4.0</td>\n",
       "      <td>53750.0</td>\n",
       "      <td>12065.791865</td>\n",
       "      <td>42000.0</td>\n",
       "      <td>46500.0</td>\n",
       "      <td>51500.0</td>\n",
       "      <td>58750.0</td>\n",
       "      <td>70000.0</td>\n",
       "    </tr>\n",
       "  </tbody>\n",
       "</table>\n",
       "</div>"
      ],
      "text/plain": [
       "        co2                                                     price  \\\n",
       "      count   mean       std   min    25%    50%     75%    max count   \n",
       "car                                                                     \n",
       "Ford    4.0  100.5  5.066228  94.0  97.75  101.5  104.25  105.0   4.0   \n",
       "Skoda   4.0   97.0  5.944185  90.0  93.75   97.0  100.25  104.0   4.0   \n",
       "\n",
       "                                                                           \n",
       "          mean           std      min      25%      50%      75%      max  \n",
       "car                                                                        \n",
       "Ford   53750.0  12038.133853  38000.0  47750.0  56000.0  62000.0  65000.0  \n",
       "Skoda  53750.0  12065.791865  42000.0  46500.0  51500.0  58750.0  70000.0  "
      ]
     },
     "execution_count": 151,
     "metadata": {},
     "output_type": "execute_result"
    }
   ],
   "source": [
    "gb_cols.describe()"
   ]
  },
  {
   "cell_type": "code",
   "execution_count": null,
   "id": "4addd548-8d8c-490c-8ce9-241fc5a7a05f",
   "metadata": {},
   "outputs": [],
   "source": []
  }
 ],
 "metadata": {
  "kernelspec": {
   "display_name": "Python 3 (ipykernel)",
   "language": "python",
   "name": "python3"
  },
  "language_info": {
   "codemirror_mode": {
    "name": "ipython",
    "version": 3
   },
   "file_extension": ".py",
   "mimetype": "text/x-python",
   "name": "python",
   "nbconvert_exporter": "python",
   "pygments_lexer": "ipython3",
   "version": "3.12.4"
  }
 },
 "nbformat": 4,
 "nbformat_minor": 5
}
